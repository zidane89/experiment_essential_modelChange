{
 "cells": [
  {
   "cell_type": "code",
   "execution_count": 1,
   "metadata": {},
   "outputs": [],
   "source": [
    "import numpy as np \n",
    "import scipy.io as sio\n",
    "import glob \n",
    "import matplotlib.pyplot as plt "
   ]
  },
  {
   "cell_type": "code",
   "execution_count": 2,
   "metadata": {},
   "outputs": [],
   "source": [
    "driving_cycle_paths = glob.glob(\"../data/driving_cycles/all/*.mat\")"
   ]
  },
  {
   "cell_type": "code",
   "execution_count": 3,
   "metadata": {},
   "outputs": [],
   "source": [
    "def get_min_max(driving_cycle_paths):\n",
    "    v_max = 0 \n",
    "    v_diff_min = 0 \n",
    "    v_diff_max = 0 \n",
    "    \n",
    "    for cycle_path in driving_cycle_paths: \n",
    "        drv_cycle = sio.loadmat(cycle_path)\n",
    "        v_veh = drv_cycle[\"sch_cycle\"][:, 1]\n",
    "        v_diff_veh = np.diff(v_veh)\n",
    "        \n",
    "        for v in v_veh: \n",
    "            if v > v_max: \n",
    "                v_max = v \n",
    "        \n",
    "        for v_diff in v_diff_veh: \n",
    "            if v_diff > v_diff_max: \n",
    "                v_diff_max = v_diff \n",
    "            if v_diff < v_diff_min: \n",
    "                v_diff_min = v_diff \n",
    "                \n",
    "    return v_max, v_diff_min, v_diff_max "
   ]
  },
  {
   "cell_type": "code",
   "execution_count": 4,
   "metadata": {},
   "outputs": [
    {
     "name": "stdout",
     "output_type": "stream",
     "text": [
      "33.349183999999994 -4.088888888888889 4.088888888888889\n"
     ]
    }
   ],
   "source": [
    "v_max, v_diff_min, v_diff_max = get_min_max(driving_cycle_paths)\n",
    "\n",
    "v_diff_min = - v_diff_max \n",
    "\n",
    "print(v_max, v_diff_min, v_diff_max)\n",
    "\n"
   ]
  },
  {
   "cell_type": "code",
   "execution_count": 10,
   "metadata": {},
   "outputs": [
    {
     "name": "stdout",
     "output_type": "stream",
     "text": [
      "[ 0.         1.6674592  3.3349184  5.0023776  6.6698368  8.337296\n",
      " 10.0047552 11.6722144 13.3396736 15.0071328 16.674592  18.3420512\n",
      " 20.0095104 21.6769696 23.3444288 25.011888  26.6793472 28.3468064\n",
      " 30.0142656 31.6817248 33.349184 ]\n",
      "[-4.08888889 -3.68       -3.27111111 -2.86222222 -2.45333333 -2.04444444\n",
      " -1.63555556 -1.22666667 -0.81777778 -0.40888889  0.          0.40888889\n",
      "  0.81777778  1.22666667  1.63555556  2.04444444  2.45333333  2.86222222\n",
      "  3.27111111  3.68        4.08888889]\n"
     ]
    }
   ],
   "source": [
    "v_grid_num = 20  \n",
    "a_grid_num = 20 \n",
    "\n",
    "v_grid = np.linspace(0, v_max, v_grid_num+1) \n",
    "a_grid = np.linspace(v_diff_min, v_diff_max, a_grid_num+1)\n",
    "\n",
    "\n",
    "print(v_grid)\n",
    "print(a_grid)"
   ]
  },
  {
   "cell_type": "code",
   "execution_count": 6,
   "metadata": {},
   "outputs": [],
   "source": [
    "def get_indices(v, a, v_grid, a_grid):\n",
    "    for i in range(len(v_grid) - 1): \n",
    "        if v_grid[i] <= v < v_grid[i+1]: \n",
    "            break \n",
    "    \n",
    "    for j in range(len(a_grid) - 1): \n",
    "        if a_grid[j] <= a < a_grid[j+1]: \n",
    "            break\n",
    "            \n",
    "    return i, j \n",
    "            \n",
    "    "
   ]
  },
  {
   "cell_type": "code",
   "execution_count": 7,
   "metadata": {
    "collapsed": true
   },
   "outputs": [
    {
     "name": "stdout",
     "output_type": "stream",
     "text": [
      "[[0.0000e+00 0.0000e+00 0.0000e+00 0.0000e+00 0.0000e+00 5.0000e+00\n",
      "  5.6000e+01 2.6200e+02 5.0300e+02 6.8100e+02 1.0859e+04 6.5700e+02\n",
      "  5.0500e+02 2.5300e+02 7.6000e+01 2.2000e+01 3.0000e+00 0.0000e+00\n",
      "  0.0000e+00 1.0000e+00]\n",
      " [0.0000e+00 0.0000e+00 0.0000e+00 3.0000e+00 1.5000e+01 6.2000e+01\n",
      "  2.3700e+02 3.6400e+02 3.8000e+02 4.8000e+02 5.2000e+02 4.6900e+02\n",
      "  4.2000e+02 2.0900e+02 5.6000e+01 1.9000e+01 4.0000e+00 0.0000e+00\n",
      "  1.0000e+00 0.0000e+00]\n",
      " [1.0000e+00 0.0000e+00 2.0000e+00 1.2000e+01 2.4000e+01 9.7000e+01\n",
      "  2.6200e+02 2.8500e+02 5.1300e+02 6.9000e+02 8.8800e+02 7.6400e+02\n",
      "  4.2300e+02 1.3400e+02 2.0000e+01 1.2000e+01 1.0000e+00 0.0000e+00\n",
      "  0.0000e+00 1.0000e+00]\n",
      " [1.0000e+00 0.0000e+00 3.0000e+00 1.0000e+01 2.9000e+01 8.5000e+01\n",
      "  2.3600e+02 3.2900e+02 5.8600e+02 7.0900e+02 9.5900e+02 7.9000e+02\n",
      "  4.2000e+02 1.3200e+02 2.4000e+01 3.0000e+00 0.0000e+00 0.0000e+00\n",
      "  0.0000e+00 0.0000e+00]\n",
      " [0.0000e+00 1.0000e+00 5.0000e+00 6.0000e+00 1.5000e+01 7.0000e+01\n",
      "  1.7400e+02 2.8500e+02 5.9700e+02 8.7300e+02 1.0730e+03 7.0100e+02\n",
      "  2.8800e+02 7.0000e+01 2.5000e+01 3.0000e+00 0.0000e+00 0.0000e+00\n",
      "  0.0000e+00 1.0000e+00]\n",
      " [0.0000e+00 1.0000e+00 2.0000e+00 5.0000e+00 1.2000e+01 3.4000e+01\n",
      "  1.2200e+02 2.3100e+02 4.3900e+02 8.3300e+02 1.1290e+03 5.3600e+02\n",
      "  1.6800e+02 3.0000e+01 1.5000e+01 0.0000e+00 0.0000e+00 0.0000e+00\n",
      "  0.0000e+00 1.0000e+00]\n",
      " [0.0000e+00 1.0000e+00 2.0000e+00 3.0000e+00 9.0000e+00 1.8000e+01\n",
      "  7.0000e+01 1.1100e+02 2.7300e+02 5.9900e+02 8.1900e+02 3.1400e+02\n",
      "  4.9000e+01 2.3000e+01 5.0000e+00 0.0000e+00 0.0000e+00 0.0000e+00\n",
      "  0.0000e+00 0.0000e+00]\n",
      " [1.0000e+00 1.0000e+00 2.0000e+00 0.0000e+00 4.0000e+00 8.0000e+00\n",
      "  2.8000e+01 4.9000e+01 1.4300e+02 3.4400e+02 4.8300e+02 1.5100e+02\n",
      "  2.5000e+01 1.2000e+01 0.0000e+00 0.0000e+00 0.0000e+00 0.0000e+00\n",
      "  0.0000e+00 0.0000e+00]\n",
      " [0.0000e+00 0.0000e+00 0.0000e+00 2.0000e+00 1.0000e+00 9.0000e+00\n",
      "  1.4000e+01 3.3000e+01 8.4000e+01 2.2200e+02 4.0200e+02 7.4000e+01\n",
      "  1.6000e+01 3.0000e+00 1.0000e+00 0.0000e+00 0.0000e+00 0.0000e+00\n",
      "  0.0000e+00 0.0000e+00]\n",
      " [0.0000e+00 0.0000e+00 0.0000e+00 0.0000e+00 1.0000e+00 0.0000e+00\n",
      "  1.0000e+00 8.0000e+00 4.4000e+01 1.0700e+02 1.6700e+02 3.2000e+01\n",
      "  5.0000e+00 0.0000e+00 0.0000e+00 0.0000e+00 0.0000e+00 0.0000e+00\n",
      "  0.0000e+00 0.0000e+00]\n",
      " [0.0000e+00 0.0000e+00 0.0000e+00 0.0000e+00 0.0000e+00 0.0000e+00\n",
      "  1.0000e+00 2.0000e+00 1.9000e+01 2.0000e+01 5.6000e+01 2.0000e+01\n",
      "  2.0000e+00 0.0000e+00 0.0000e+00 0.0000e+00 0.0000e+00 0.0000e+00\n",
      "  0.0000e+00 0.0000e+00]\n",
      " [0.0000e+00 0.0000e+00 0.0000e+00 0.0000e+00 0.0000e+00 0.0000e+00\n",
      "  0.0000e+00 3.0000e+00 1.6000e+01 2.8000e+01 2.0000e+02 1.4000e+01\n",
      "  2.0000e+00 0.0000e+00 0.0000e+00 0.0000e+00 0.0000e+00 0.0000e+00\n",
      "  0.0000e+00 0.0000e+00]\n",
      " [0.0000e+00 0.0000e+00 0.0000e+00 0.0000e+00 0.0000e+00 0.0000e+00\n",
      "  0.0000e+00 3.0000e+00 1.4000e+01 2.4000e+01 1.0800e+02 3.0000e+00\n",
      "  2.0000e+00 0.0000e+00 0.0000e+00 0.0000e+00 0.0000e+00 0.0000e+00\n",
      "  0.0000e+00 0.0000e+00]\n",
      " [0.0000e+00 0.0000e+00 0.0000e+00 0.0000e+00 0.0000e+00 0.0000e+00\n",
      "  0.0000e+00 4.0000e+00 7.0000e+00 5.0000e+01 1.1100e+02 1.1000e+01\n",
      "  2.0000e+00 0.0000e+00 0.0000e+00 0.0000e+00 0.0000e+00 0.0000e+00\n",
      "  0.0000e+00 0.0000e+00]\n",
      " [0.0000e+00 0.0000e+00 0.0000e+00 0.0000e+00 0.0000e+00 0.0000e+00\n",
      "  0.0000e+00 3.0000e+00 1.6000e+01 9.0000e+01 2.2700e+02 1.2000e+01\n",
      "  1.0000e+00 0.0000e+00 0.0000e+00 0.0000e+00 0.0000e+00 0.0000e+00\n",
      "  0.0000e+00 0.0000e+00]\n",
      " [0.0000e+00 0.0000e+00 0.0000e+00 0.0000e+00 0.0000e+00 0.0000e+00\n",
      "  0.0000e+00 0.0000e+00 6.0000e+00 3.0000e+01 8.1000e+01 0.0000e+00\n",
      "  0.0000e+00 0.0000e+00 0.0000e+00 0.0000e+00 0.0000e+00 0.0000e+00\n",
      "  0.0000e+00 0.0000e+00]\n",
      " [0.0000e+00 0.0000e+00 0.0000e+00 0.0000e+00 0.0000e+00 0.0000e+00\n",
      "  0.0000e+00 0.0000e+00 2.0000e+00 0.0000e+00 3.7000e+01 0.0000e+00\n",
      "  0.0000e+00 0.0000e+00 0.0000e+00 0.0000e+00 0.0000e+00 0.0000e+00\n",
      "  0.0000e+00 0.0000e+00]\n",
      " [0.0000e+00 0.0000e+00 0.0000e+00 0.0000e+00 0.0000e+00 0.0000e+00\n",
      "  0.0000e+00 0.0000e+00 3.0000e+00 0.0000e+00 6.0000e+00 0.0000e+00\n",
      "  0.0000e+00 0.0000e+00 0.0000e+00 0.0000e+00 0.0000e+00 0.0000e+00\n",
      "  0.0000e+00 0.0000e+00]\n",
      " [0.0000e+00 0.0000e+00 0.0000e+00 0.0000e+00 0.0000e+00 0.0000e+00\n",
      "  0.0000e+00 0.0000e+00 2.0000e+00 0.0000e+00 6.0000e+00 0.0000e+00\n",
      "  0.0000e+00 0.0000e+00 0.0000e+00 0.0000e+00 0.0000e+00 0.0000e+00\n",
      "  0.0000e+00 0.0000e+00]\n",
      " [0.0000e+00 0.0000e+00 0.0000e+00 0.0000e+00 0.0000e+00 0.0000e+00\n",
      "  0.0000e+00 0.0000e+00 3.0000e+00 0.0000e+00 1.5000e+01 0.0000e+00\n",
      "  0.0000e+00 0.0000e+00 0.0000e+00 0.0000e+00 0.0000e+00 0.0000e+00\n",
      "  0.0000e+00 0.0000e+00]]\n"
     ]
    }
   ],
   "source": [
    "def get_transition_matrix(driving_cycle_paths, v_grid, a_grid): \n",
    "    transition_matrix = np.zeros((v_grid_num, a_grid_num))\n",
    "    \n",
    "    for cycle_path in driving_cycle_paths: \n",
    "        drv_cycle = sio.loadmat(cycle_path)\n",
    "        v_veh = drv_cycle[\"sch_cycle\"][:, 1]\n",
    "        \n",
    "        for t in range(len(v_veh)-1):\n",
    "            v = v_veh[t]\n",
    "            a = v_veh[t+1] - v_veh[t]\n",
    "            \n",
    "            i, j = get_indices(v, a, v_grid, a_grid)\n",
    "            transition_matrix[i, j] += 1 \n",
    "            \n",
    "    return transition_matrix \n",
    "            \n",
    "\n",
    "transition_matrix = get_transition_matrix(driving_cycle_paths, v_grid, a_grid)\n",
    "print(transition_matrix)"
   ]
  },
  {
   "cell_type": "code",
   "execution_count": 8,
   "metadata": {
    "scrolled": true
   },
   "outputs": [
    {
     "name": "stdout",
     "output_type": "stream",
     "text": [
      "[[0.01428571 0.01428571 0.01428571 0.01428571 0.01428571 0.01454297\n",
      "  0.01716694 0.02776572 0.04016526 0.04932343 0.57298546 0.04808862\n",
      "  0.04026816 0.02730266 0.01819594 0.01541762 0.01444007 0.01428571\n",
      "  0.01428571 0.01433716]\n",
      " [0.01428571 0.01428571 0.01428571 0.01494729 0.01759361 0.02795836\n",
      "  0.06655052 0.0945574  0.09808583 0.12013849 0.12895956 0.1177127\n",
      "  0.10690689 0.06037578 0.0266352  0.01847572 0.01516782 0.01428571\n",
      "  0.01450624 0.01428571]\n",
      " [0.01445871 0.01428571 0.0146317  0.01636162 0.01843753 0.03106598\n",
      "  0.05960973 0.06358855 0.10303083 0.13365049 0.16790299 0.14645193\n",
      "  0.08746151 0.0374667  0.01774556 0.01636162 0.01445871 0.01428571\n",
      "  0.01428571 0.01445871]\n",
      " [0.01445121 0.01428571 0.01478221 0.01594069 0.01908513 0.02835297\n",
      "  0.05334304 0.06873428 0.11126705 0.1316232  0.17299748 0.14502847\n",
      "  0.08379452 0.03613134 0.01825765 0.01478221 0.01428571 0.01428571\n",
      "  0.01428571 0.01428571]\n",
      " [0.01428571 0.01445631 0.01513869 0.01530929 0.01684466 0.02622744\n",
      "  0.04396943 0.06290559 0.11613156 0.16321608 0.19733529 0.13387355\n",
      "  0.06341738 0.02622744 0.01855062 0.0147975  0.01428571 0.01428571\n",
      "  0.01428571 0.01445631]\n",
      " [0.01428571 0.01448647 0.01468722 0.01528949 0.01669477 0.02111138\n",
      "  0.0387778  0.06066008 0.10241709 0.18151449 0.24093793 0.12189031\n",
      "  0.04801253 0.02030836 0.01729704 0.01428571 0.01428571 0.01428571\n",
      "  0.01428571 0.01448647]\n",
      " [0.01428571 0.01459681 0.01490791 0.01521901 0.01708561 0.01988552\n",
      "  0.03606272 0.04881782 0.09921603 0.20063464 0.26907666 0.11197113\n",
      "  0.02952962 0.02144102 0.01584121 0.01428571 0.01428571 0.01428571\n",
      "  0.01428571 0.01428571]\n",
      " [0.01485669 0.01485669 0.01542766 0.01428571 0.0165696  0.01885349\n",
      "  0.03027292 0.04226333 0.09593468 0.21070001 0.29006509 0.10050246\n",
      "  0.02856001 0.02113738 0.01428571 0.01428571 0.01428571 0.01428571\n",
      "  0.01428571 0.01428571]\n",
      " [0.01428571 0.01428571 0.01428571 0.01594491 0.01511531 0.02175212\n",
      "  0.02590012 0.04166252 0.08397213 0.19845694 0.34778497 0.07567612\n",
      "  0.02755932 0.01677451 0.01511531 0.01428571 0.01428571 0.01428571\n",
      "  0.01428571 0.01428571]\n",
      " [0.01428571 0.01428571 0.01428571 0.01428571 0.01624266 0.01428571\n",
      "  0.01624266 0.02994129 0.10039139 0.22367906 0.34109589 0.07690802\n",
      "  0.02407045 0.01428571 0.01428571 0.01428571 0.01428571 0.01428571\n",
      "  0.01428571 0.01428571]\n",
      " [0.01428571 0.01428571 0.01428571 0.01428571 0.01428571 0.01428571\n",
      "  0.0202381  0.02619048 0.12738095 0.13333333 0.34761905 0.13333333\n",
      "  0.02619048 0.01428571 0.01428571 0.01428571 0.01428571 0.01428571\n",
      "  0.01428571 0.01428571]\n",
      " [0.01428571 0.01428571 0.01428571 0.01428571 0.01428571 0.01428571\n",
      "  0.01428571 0.02243346 0.05774036 0.09033134 0.55746877 0.05230853\n",
      "  0.01971754 0.01428571 0.01428571 0.01428571 0.01428571 0.01428571\n",
      "  0.01428571 0.01428571]\n",
      " [0.01428571 0.01428571 0.01428571 0.01428571 0.01428571 0.01428571\n",
      "  0.01428571 0.02820037 0.07922078 0.12560297 0.51521336 0.02820037\n",
      "  0.02356215 0.01428571 0.01428571 0.01428571 0.01428571 0.01428571\n",
      "  0.01428571 0.01428571]\n",
      " [0.01428571 0.01428571 0.01428571 0.01428571 0.01428571 0.01428571\n",
      "  0.01428571 0.02972973 0.04131274 0.20733591 0.44285714 0.05675676\n",
      "  0.02200772 0.01428571 0.01428571 0.01428571 0.01428571 0.01428571\n",
      "  0.01428571 0.01428571]\n",
      " [0.01428571 0.01428571 0.01428571 0.01428571 0.01428571 0.01428571\n",
      "  0.01428571 0.02042571 0.04703234 0.19848547 0.47887843 0.03884568\n",
      "  0.01633238 0.01428571 0.01428571 0.01428571 0.01428571 0.01428571\n",
      "  0.01428571 0.01428571]\n",
      " [0.01428571 0.01428571 0.01428571 0.01428571 0.01428571 0.01428571\n",
      "  0.01428571 0.01428571 0.05091575 0.1974359  0.50879121 0.01428571\n",
      "  0.01428571 0.01428571 0.01428571 0.01428571 0.01428571 0.01428571\n",
      "  0.01428571 0.01428571]\n",
      " [0.01428571 0.01428571 0.01428571 0.01428571 0.01428571 0.01428571\n",
      "  0.01428571 0.01428571 0.05091575 0.01428571 0.69194139 0.01428571\n",
      "  0.01428571 0.01428571 0.01428571 0.01428571 0.01428571 0.01428571\n",
      "  0.01428571 0.01428571]\n",
      " [0.01428571 0.01428571 0.01428571 0.01428571 0.01428571 0.01428571\n",
      "  0.01428571 0.01428571 0.25238095 0.01428571 0.49047619 0.01428571\n",
      "  0.01428571 0.01428571 0.01428571 0.01428571 0.01428571 0.01428571\n",
      "  0.01428571 0.01428571]\n",
      " [0.01428571 0.01428571 0.01428571 0.01428571 0.01428571 0.01428571\n",
      "  0.01428571 0.01428571 0.19285714 0.01428571 0.55       0.01428571\n",
      "  0.01428571 0.01428571 0.01428571 0.01428571 0.01428571 0.01428571\n",
      "  0.01428571 0.01428571]\n",
      " [0.01428571 0.01428571 0.01428571 0.01428571 0.01428571 0.01428571\n",
      "  0.01428571 0.01428571 0.13333333 0.01428571 0.60952381 0.01428571\n",
      "  0.01428571 0.01428571 0.01428571 0.01428571 0.01428571 0.01428571\n",
      "  0.01428571 0.01428571]]\n"
     ]
    },
    {
     "data": {
      "text/plain": [
       "<matplotlib.image.AxesImage at 0x229f08fc2b0>"
      ]
     },
     "execution_count": 8,
     "metadata": {},
     "output_type": "execute_result"
    },
    {
     "data": {
      "image/png": "[encoded data removed]",
      "text/plain": [
       "<Figure size 432x288 with 1 Axes>"
      ]
     },
     "metadata": {
      "needs_background": "light"
     },
     "output_type": "display_data"
    }
   ],
   "source": [
    "transition_prob_matrix = np.zeros_like(transition_matrix)\n",
    "eps = 0.02\n",
    "\n",
    "for i in range(len(transition_matrix)): \n",
    "    transition_matrix[i] += np.sum(transition_matrix[i]) * eps  \n",
    "    state_sum = np.sum(transition_matrix[i])\n",
    "    \n",
    "    state_prob = transition_matrix[i] / state_sum \n",
    "    \n",
    "    transition_prob_matrix[i] = state_prob \n",
    "    \n",
    "print(transition_prob_matrix)\n",
    "\n",
    "plt.imshow(transition_prob_matrix)"
   ]
  },
  {
   "cell_type": "markdown",
   "metadata": {},
   "source": [
    "# transition matrix로 speed profile 만들기 "
   ]
  },
  {
   "cell_type": "code",
   "execution_count": 21,
   "metadata": {},
   "outputs": [],
   "source": [
    "def mapping_v(v_continue): \n",
    "    for i in range(len(v_grid) - 1): \n",
    "        if v_grid[i] <= v_continue < v_grid[i+1]: \n",
    "            break \n",
    "    v_category = i \n",
    "    return v_category \n",
    "\n",
    "def mapping_a(v_category):\n",
    "    probs = transition_prob_matrix[v_category]\n",
    "    a_category = np.random.choice(len(probs), p=probs)\n",
    "    a_continue = a_grid[a_category]\n",
    "    return a_continue \n",
    "\n",
    "\n",
    "cycle_length = 1000 \n",
    "\n",
    "cycle = [0]\n",
    "v_t_con = 0 \n",
    "for t in range(cycle_length): \n",
    "    v_t_cat = mapping_v(v_t_con)\n",
    "    a_t_con = mapping_a(v_t_cat)\n",
    "    \n",
    "    v_t_con += a_t_con \n",
    "    v_t_con = max(min(v_t_con, v_max), 0)\n",
    "    \n",
    "    cycle.append(v_t_con)\n"
   ]
  },
  {
   "cell_type": "code",
   "execution_count": 22,
   "metadata": {},
   "outputs": [
    {
     "data": {
      "text/plain": [
       "[<matplotlib.lines.Line2D at 0x229f1c78470>]"
      ]
     },
     "execution_count": 22,
     "metadata": {},
     "output_type": "execute_result"
    },
    {
     "data": {
      "image/png": "[encoded data removed]",
      "text/plain": [
       "<Figure size 432x288 with 1 Axes>"
      ]
     },
     "metadata": {
      "needs_background": "light"
     },
     "output_type": "display_data"
    }
   ],
   "source": [
    "plt.plot(cycle)"
   ]
  },
  {
   "cell_type": "code",
   "execution_count": null,
   "metadata": {},
   "outputs": [],
   "source": []
  },
  {
   "cell_type": "code",
   "execution_count": null,
   "metadata": {},
   "outputs": [],
   "source": []
  }
 ],
 "metadata": {
  "kernelspec": {
   "display_name": "Python 3",
   "language": "python",
   "name": "python3"
  },
  "language_info": {
   "codemirror_mode": {
    "name": "ipython",
    "version": 3
   },
   "file_extension": ".py",
   "mimetype": "text/x-python",
   "name": "python",
   "nbconvert_exporter": "python",
   "pygments_lexer": "ipython3",
   "version": "3.6.10"
  }
 },
 "nbformat": 4,
 "nbformat_minor": 4
}
